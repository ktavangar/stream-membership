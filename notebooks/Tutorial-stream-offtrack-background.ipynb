{
 "cells": [
  {
   "cell_type": "code",
   "execution_count": null,
   "metadata": {},
   "outputs": [],
   "source": [
    "import arviz as az\n",
    "import jax\n",
    "\n",
    "jax.config.update(\"jax_enable_x64\", True)\n",
    "import jax.numpy as jnp\n",
    "import matplotlib as mpl\n",
    "import matplotlib.pyplot as plt\n",
    "import numpy as np\n",
    "import numpyro\n",
    "import numpyro.distributions as dist\n",
    "from numpyro.handlers import seed\n",
    "from numpyro.infer import MCMC, NUTS, SVI, Predictive, Trace_ELBO\n",
    "from numpyro.infer.autoguide import AutoDelta, AutoNormal\n",
    "from scipy.interpolate import InterpolatedUnivariateSpline\n",
    "\n",
    "from stream_membership import ComponentMixtureModel, ModelComponent\n",
    "from stream_membership.distributions import IndependentGMM, TruncatedNormalSpline\n",
    "from stream_membership.plot import plot_data_projections"
   ]
  },
  {
   "cell_type": "markdown",
   "metadata": {},
   "source": [
    "## Simulate data\n",
    "\n",
    "First we generate some simulated data to have a similar complexity to real stream data."
   ]
  },
  {
   "cell_type": "code",
   "execution_count": null,
   "metadata": {},
   "outputs": [],
   "source": [
    "phi1_lim = (-100, 20)\n",
    "phi2_lim = (-8, 4)\n",
    "pm1_lim = (None, -2.0)"
   ]
  },
  {
   "cell_type": "code",
   "execution_count": null,
   "metadata": {},
   "outputs": [],
   "source": [
    "N_data = 8192\n",
    "\n",
    "# first, the background:\n",
    "keys = jax.random.split(jax.random.PRNGKey(42), num=9)\n",
    "N = int(N_data * 0.55)\n",
    "data = {\n",
    "    \"phi1\": dist.TruncatedNormal(\n",
    "        loc=-70, scale=30, low=phi1_lim[0], high=phi1_lim[1]\n",
    "    ).sample(keys[1], (N,)),\n",
    "    \"phi2\": dist.Uniform(*phi2_lim).sample(keys[2], (N,)),\n",
    "}\n",
    "true_pm1_loc_spl = InterpolatedUnivariateSpline(\n",
    "    [-100, -20, 0.0, 20], [-5.0, -1.0, 2.0, 5.0]\n",
    ")\n",
    "true_pm1_scale = 2.0\n",
    "data[\"pm1\"] = dist.TruncatedNormal(\n",
    "    loc=true_pm1_loc_spl(data[\"phi1\"]), scale=2, high=pm1_lim[1]\n",
    ").sample(keys[3])\n",
    "\n",
    "# now, add a \"stream\":\n",
    "keys = jax.random.split(jax.random.PRNGKey(412), num=6)\n",
    "N_stream = int(0.85 * (N_data - N))\n",
    "stream_data = {}\n",
    "true_phi1_loc = -20.0\n",
    "true_phi1_scale = 40.0\n",
    "stream_data[\"phi1\"] = dist.TruncatedNormal(\n",
    "    loc=-20, scale=40, low=phi1_lim[0], high=phi1_lim[1]\n",
    ").sample(keys[1], (N_stream,))\n",
    "\n",
    "true_phi2_loc_spl = InterpolatedUnivariateSpline(\n",
    "    [-100, -60, -20, 0, 20], [-6, -2, 0, 0, -1], k=3\n",
    ")\n",
    "true_phi2_ln_scale_spl = InterpolatedUnivariateSpline(\n",
    "    [-100, -60, -20, 0, 20], np.log([0.8, 0.6, 0.5, 0.5, 0.8]), k=3\n",
    ")\n",
    "stream_data[\"phi2\"] = TruncatedNormalSpline(\n",
    "    loc_vals=[-6, -2, 0, 0, -1],\n",
    "    scale_vals=[0.8, 0.6, 0.5, 0.5, 0.8],\n",
    "    knots=[-100, -60, -20, 0, 20],\n",
    "    low=phi2_lim[0],\n",
    "    high=phi2_lim[1],\n",
    "    x=stream_data[\"phi1\"],\n",
    ").sample(keys[2])\n",
    "\n",
    "true_pm1_loc_spl = InterpolatedUnivariateSpline(\n",
    "    [-100, -60, -20, 0, 20], [-3, -6, -9, -6, -4], k=3\n",
    ")\n",
    "true_pm1_ln_scale = np.log(0.05)\n",
    "stream_data[\"pm1\"] = TruncatedNormalSpline(\n",
    "    loc_vals=[-3, -6, -9, -6, -4],\n",
    "    scale_vals=np.full(5, 0.05),\n",
    "    knots=[-100, -60, -20, 0, 20],\n",
    "    low=pm1_lim[0],\n",
    "    high=pm1_lim[1],\n",
    "    x=stream_data[\"phi1\"],\n",
    ").sample(keys[3])\n",
    "\n",
    "# Optionally: add an \"off-track\" feature\n",
    "N_offrack = N_data - N - N_stream\n",
    "offtrack = {}\n",
    "offtrack[\"phi1\"] = dist.TruncatedNormal(\n",
    "    loc=-30, scale=6, low=phi1_lim[0], high=phi1_lim[1]\n",
    ").sample(keys[4], (N_offrack,))\n",
    "\n",
    "offtrack[\"phi2\"] = TruncatedNormalSpline(\n",
    "    loc_vals=np.array([-6.0, -2.0, 0.5, 2, 2.5, 2.5]),\n",
    "    scale_vals=np.full(6, 0.3),\n",
    "    knots=[-100, -60, -40, -20, 0, 20],\n",
    "    low=phi2_lim[0],\n",
    "    high=phi2_lim[1],\n",
    "    x=offtrack[\"phi1\"],\n",
    ").sample(keys[5])\n",
    "\n",
    "offtrack[\"pm1\"] = TruncatedNormalSpline(\n",
    "    loc_vals=[-3, -6, -9, -6, -4],\n",
    "    scale_vals=np.full(5, 0.05),\n",
    "    knots=[-100, -60, -20, 0, 20],\n",
    "    low=pm1_lim[0],\n",
    "    high=pm1_lim[1],\n",
    "    x=offtrack[\"phi1\"],\n",
    ").sample(keys[6])\n",
    "\n",
    "data = {k: jnp.concatenate([data[k], stream_data[k], offtrack[k]]) for k in data}\n",
    "print(N_data, N, N_stream, N_offrack)\n",
    "\n",
    "pm1_err = jnp.exp(jax.random.uniform(keys[7], minval=-5, maxval=0, shape=(N_data,)))\n",
    "data[\"pm1\"] = jax.random.normal(keys[8], shape=(N_data,)) * pm1_err + data[\"pm1\"]\n",
    "err = {\"pm1\": pm1_err}\n",
    "# data = stream_data"
   ]
  },
  {
   "cell_type": "code",
   "execution_count": null,
   "metadata": {},
   "outputs": [],
   "source": [
    "plot_grids = {\n",
    "    \"phi1\": jnp.linspace(*phi1_lim, 512),\n",
    "    \"phi2\": jnp.linspace(*phi2_lim, 128),\n",
    "    \"pm1\": jnp.linspace(-15, pm1_lim[1], 128),\n",
    "}\n",
    "fig, axes = plot_data_projections(data, grids=plot_grids)\n",
    "fig.suptitle(\"simulated data\", fontsize=24)"
   ]
  },
  {
   "cell_type": "markdown",
   "metadata": {},
   "source": [
    "### Define the background model\n",
    "\n",
    "The sky distribution is represented by a grid of 2D Normal distributions. The grid Normal components have different learned scales for the $\\phi_1$ and $\\phi_2$ directions. The proper motion track is a truncated Normal with a mean and log-stddev that are spline functions of $\\phi_1$."
   ]
  },
  {
   "cell_type": "code",
   "execution_count": null,
   "metadata": {},
   "outputs": [],
   "source": [
    "bkg_phi12_locs = jnp.stack(\n",
    "    jnp.meshgrid(\n",
    "        jnp.arange(phi1_lim[0] - 20, phi1_lim[1] + 20 + 1e-3, 20),\n",
    "        jnp.arange(phi2_lim[0] - 4, phi2_lim[1] + 4 + 1e-3, 4),\n",
    "    ),\n",
    "    axis=-1,\n",
    ").reshape(-1, 2)\n",
    "bkg_pm1_knots = jnp.arange(-100, 20 + 1e-3, 30)\n",
    "\n",
    "bkg_model = ModelComponent(\n",
    "    name=\"background\",\n",
    "    coord_distributions={\n",
    "        \"phi1\": dist.TruncatedNormal,\n",
    "        \"phi2\": dist.Uniform,\n",
    "        \"pm1\": TruncatedNormalSpline,\n",
    "    },\n",
    "    coord_parameters={\n",
    "        \"phi1\": {\n",
    "            \"loc\": dist.Normal(-70.0, 50.0),\n",
    "            \"scale\": dist.HalfNormal(50.0),\n",
    "            \"low\": phi1_lim[0],\n",
    "            \"high\": phi1_lim[1],\n",
    "        },\n",
    "        \"phi2\": {\n",
    "            \"low\": phi2_lim[0],\n",
    "            \"high\": phi2_lim[1],\n",
    "        },\n",
    "        \"pm1\": {\n",
    "            \"loc_vals\": dist.Normal(pm1_lim[1], 1.0).expand([bkg_pm1_knots.shape[0]]),\n",
    "            \"scale_vals\": dist.HalfNormal(5).expand([bkg_pm1_knots.shape[0]]),\n",
    "            \"knots\": bkg_pm1_knots,\n",
    "            \"x\": data[\"phi1\"],\n",
    "            \"low\": pm1_lim[0],\n",
    "            \"high\": pm1_lim[1],\n",
    "            \"spline_k\": 3,\n",
    "            \"clip_locs\": (-10, pm1_lim[1]),\n",
    "        },\n",
    "    },\n",
    "    conditional_data={\"pm1\": {\"x\": \"phi1\"}},\n",
    ")"
   ]
  },
  {
   "cell_type": "code",
   "execution_count": null,
   "metadata": {},
   "outputs": [],
   "source": [
    "tmp = np.exp(-0.5 * (bkg_phi12_locs[:, 0] - -80.0) ** 2 / 20**2)\n",
    "bkg_init_params = {\n",
    "    # (\"phi1\", \"phi2\"): {\n",
    "    #     \"mixing_distribution\": tmp / tmp.sum(),\n",
    "    #     \"scales\": jnp.array([20.0, 4.0])[:, None],\n",
    "    # },\n",
    "    \"phi1\": {\"loc\": -70.0, \"scale\": 30.0},\n",
    "    \"phi2\": {},\n",
    "    \"pm1\": {\n",
    "        \"loc_vals\": jnp.full(bkg_pm1_knots.shape[0], -5.0),\n",
    "        \"scale_vals\": jnp.full(bkg_pm1_knots.shape[0], 10.0),\n",
    "    },\n",
    "}"
   ]
  },
  {
   "cell_type": "markdown",
   "metadata": {},
   "source": [
    "The stream model is defined using a 1D mixture of Normal distributions for the $\\phi_1$ density, and conditional Normal distributions for $\\phi_2$ and $\\mu_1$ tracks. "
   ]
  },
  {
   "cell_type": "code",
   "execution_count": null,
   "metadata": {},
   "outputs": [],
   "source": [
    "stream_phi1_knots = jnp.arange(-100, 20 + 1e-3, 10)\n",
    "stream_phi2_knots = jnp.arange(-100, 20 + 1e-3, 15)\n",
    "stream_pm1_knots = jnp.arange(-100, 20 + 1e-3, 15)\n",
    "\n",
    "pm1_knots = jnp.arange(-100, 20 + 1e-3, 15)\n",
    "stream_model = ModelComponent(\n",
    "    name=\"stream\",\n",
    "    coord_distributions={\n",
    "        \"phi1\": IndependentGMM,\n",
    "        \"phi2\": TruncatedNormalSpline,\n",
    "        \"pm1\": TruncatedNormalSpline,\n",
    "    },\n",
    "    coord_parameters={\n",
    "        \"phi1\": {\n",
    "            \"mixing_distribution\": (\n",
    "                dist.Categorical,\n",
    "                dist.Dirichlet(jnp.ones(len(stream_phi1_knots))),\n",
    "            ),\n",
    "            \"locs\": stream_phi1_knots.reshape(1, -1),\n",
    "            \"scales\": dist.HalfNormal(5.0),\n",
    "            \"low\": jnp.array([phi1_lim[0]])[:, None],\n",
    "            \"high\": jnp.array([phi1_lim[1]])[:, None],\n",
    "        },\n",
    "        \"phi2\": {\n",
    "            \"loc_vals\": dist.Uniform(*phi2_lim).expand([stream_phi2_knots.shape[0]]),\n",
    "            # \"scale_vals\": dist.Uniform(-6, 1).expand([stream_phi2_knots.shape[0]]),\n",
    "            \"scale_vals\": dist.HalfNormal(1.0).expand([stream_phi2_knots.shape[0]]),\n",
    "            \"knots\": stream_phi2_knots,\n",
    "            \"x\": data[\"phi1\"],\n",
    "            \"low\": phi2_lim[0],\n",
    "            \"high\": phi2_lim[1],\n",
    "            \"spline_k\": 3,\n",
    "        },\n",
    "        \"pm1\": {\n",
    "            \"loc_vals\": dist.Uniform(-15, pm1_lim[1]).expand(\n",
    "                [stream_pm1_knots.shape[0]]\n",
    "            ),\n",
    "            # \"ln_scale_vals\": dist.Uniform(-6, 1),\n",
    "            # \"scale_vals\": dist.HalfNormal(1.0),\n",
    "            \"scale_vals\": dist.Uniform(0.1, 1.0),\n",
    "            \"knots\": stream_pm1_knots,\n",
    "            \"x\": data[\"phi1\"],\n",
    "            \"low\": pm1_lim[0],\n",
    "            \"high\": pm1_lim[1],\n",
    "            \"spline_k\": 3,\n",
    "            \"clip_locs\": (-10.0, pm1_lim[1]),\n",
    "        },\n",
    "    },\n",
    "    conditional_data={\"phi2\": {\"x\": \"phi1\"}, \"pm1\": {\"x\": \"phi1\"}},\n",
    ")\n",
    "stream_init_params = {\n",
    "    \"phi1\": {\n",
    "        \"locs\": jnp.ones(len(stream_phi1_knots)) / len(stream_phi1_knots),\n",
    "        \"scales\": 10.0,\n",
    "    },\n",
    "    \"phi2\": {\n",
    "        \"loc_vals\": jnp.full(stream_phi2_knots.shape[0], 0.0),\n",
    "        \"scale_vals\": jnp.full(stream_phi2_knots.shape[0], 0.5),\n",
    "    },\n",
    "    \"pm1\": {\n",
    "        \"loc_vals\": jnp.full(stream_pm1_knots.shape[0], -5.0),\n",
    "        \"scale_vals\": 0.1,\n",
    "    },\n",
    "}"
   ]
  },
  {
   "cell_type": "markdown",
   "metadata": {},
   "source": [
    "We also include an \"off-track\" model that uses the 2D grid of Normals for the sky distribution but uses the same $\\mu_1$ track as the stream model. Because we will"
   ]
  },
  {
   "cell_type": "code",
   "execution_count": null,
   "metadata": {},
   "outputs": [],
   "source": [
    "offtrack_phi12_locs_sparse = jnp.stack(\n",
    "    jnp.meshgrid(\n",
    "        jnp.arange(phi1_lim[0], phi1_lim[1] + 1e-3, 4),\n",
    "        jnp.arange(phi2_lim[0], phi2_lim[1] + 1e-3, 1.0),\n",
    "    ),\n",
    "    axis=-1,\n",
    ").reshape(-1, 2)\n",
    "offtrack_phi12_locs_dense = jnp.stack(\n",
    "    jnp.meshgrid(\n",
    "        jnp.arange(-50.0, -10.0 + 1e-3, 1),\n",
    "        jnp.arange(-2.0, 3.0 + 1e-3, 0.25),\n",
    "    ),\n",
    "    axis=-1,\n",
    ").reshape(-1, 2)\n",
    "offtrack_phi12_locs = jnp.concatenate(\n",
    "    (offtrack_phi12_locs_sparse, offtrack_phi12_locs_dense), axis=0\n",
    ")\n",
    "jnp.unique(offtrack_phi12_locs, axis=0).shape, offtrack_phi12_locs.shape"
   ]
  },
  {
   "cell_type": "code",
   "execution_count": null,
   "metadata": {},
   "outputs": [],
   "source": [
    "# offtrack_phi12_locs = jnp.stack(\n",
    "#     jnp.meshgrid(\n",
    "#         jnp.arange(phi1_lim[0], phi1_lim[1] + 1e-3, 4),\n",
    "#         jnp.arange(phi2_lim[0], phi2_lim[1] + 1e-3, 0.5),\n",
    "#     ),\n",
    "#     axis=-1,\n",
    "# ).reshape(-1, 2)\n",
    "\n",
    "# offtrack_model = ModelComponent(\n",
    "#     name=\"offtrack\",\n",
    "#     coord_distributions={\n",
    "#         (\"phi1\", \"phi2\"): IndependentGMM,\n",
    "#         \"pm1\": stream_model.coord_distributions[\"pm1\"],\n",
    "#     },\n",
    "#     coord_parameters={\n",
    "#         (\"phi1\", \"phi2\"): {\n",
    "#             \"mixing_distribution\": (\n",
    "#                 dist.Categorical,\n",
    "#                 dist.Dirichlet(jnp.ones(offtrack_phi12_locs.shape[0])),\n",
    "#             ),\n",
    "#             \"locs\": offtrack_phi12_locs.T,\n",
    "#             # \"scales\": jnp.array([[5.0, 1.0]]).T,\n",
    "#             # \"scales\": dist.HalfNormal(jnp.array([5., 1.])[:, None]),\n",
    "#             \"scales\": dist.Uniform(0.5, 10.0).expand((2, 1)),\n",
    "#             \"low\": jnp.array([phi1_lim[0], phi2_lim[0]])[:, None],\n",
    "#             \"high\": jnp.array([phi1_lim[1], phi2_lim[1]])[:, None],\n",
    "#         },\n",
    "#         # We don't need to define the parameters here, as they are the same as for the\n",
    "#         # stream model - this will be handled below when we combine the components into\n",
    "#         # a mixture model\n",
    "#         \"pm1\": stream_model.coord_parameters[\"pm1\"],\n",
    "#     },\n",
    "#     conditional_data={\"pm1\": {\"x\": \"phi1\"}},\n",
    "# )\n",
    "# offtrack_init_params = {\n",
    "#     (\"phi1\", \"phi2\"): {\n",
    "#         \"mixing_distribution\": jnp.ones(offtrack_phi12_locs.shape[0])\n",
    "#         / offtrack_phi12_locs.shape[0],\n",
    "#         \"scales\": jnp.array([5.0, 1.0])[:, None],\n",
    "#     }\n",
    "# }"
   ]
  },
  {
   "cell_type": "code",
   "execution_count": null,
   "metadata": {},
   "outputs": [],
   "source": [
    "offtrack_phi12_locs_sparse = jnp.stack(\n",
    "    jnp.meshgrid(\n",
    "        jnp.arange(phi1_lim[0], phi1_lim[1] + 1e-3, 4),\n",
    "        jnp.arange(phi2_lim[0], phi2_lim[1] + 1e-3, 1.0),\n",
    "    ),\n",
    "    axis=-1,\n",
    ").reshape(-1, 2)\n",
    "offtrack_phi12_locs_dense = jnp.stack(\n",
    "    jnp.meshgrid(\n",
    "        jnp.arange(-50.0, -10.0 + 1e-3, 1),\n",
    "        jnp.arange(-2.0, 3.0 + 1e-3, 0.25),\n",
    "    ),\n",
    "    axis=-1,\n",
    ").reshape(-1, 2)\n",
    "\n",
    "offtrack_model_dense = ModelComponent(\n",
    "    name=\"offtrack_dense\",\n",
    "    coord_distributions={\n",
    "        (\"phi1\", \"phi2\"): IndependentGMM,\n",
    "        \"pm1\": stream_model.coord_distributions[\"pm1\"],\n",
    "    },\n",
    "    coord_parameters={\n",
    "        (\"phi1\", \"phi2\"): {\n",
    "            \"mixing_distribution\": (\n",
    "                dist.Categorical,\n",
    "                dist.Dirichlet(jnp.full(offtrack_phi12_locs_dense.shape[0], 0.5)),\n",
    "            ),\n",
    "            \"locs\": offtrack_phi12_locs_dense.T,\n",
    "            \"scales\": dist.Uniform(0.2, 10.0).expand((2, 1)),\n",
    "            \"low\": jnp.array([phi1_lim[0], phi2_lim[0]])[:, None],\n",
    "            \"high\": jnp.array([phi1_lim[1], phi2_lim[1]])[:, None],\n",
    "        },\n",
    "        # We don't need to define the parameters here, as they are the same as for the\n",
    "        # stream model - this will be handled below when we combine the components into\n",
    "        # a mixture model\n",
    "        \"pm1\": stream_model.coord_parameters[\"pm1\"],\n",
    "    },\n",
    "    conditional_data={\"pm1\": {\"x\": \"phi1\"}},\n",
    ")\n",
    "offtrack_init_params_dense = {\n",
    "    (\"phi1\", \"phi2\"): {\n",
    "        \"mixing_distribution\": jnp.ones(offtrack_phi12_locs_dense.shape[0])\n",
    "        / offtrack_phi12_locs_dense.shape[0],\n",
    "        \"scales\": jnp.array([1.0, 0.25])[:, None],\n",
    "    }\n",
    "}\n",
    "\n",
    "offtrack_model_sparse = ModelComponent(\n",
    "    name=\"offtrack_sparse\",\n",
    "    coord_distributions={\n",
    "        (\"phi1\", \"phi2\"): IndependentGMM,\n",
    "        \"pm1\": stream_model.coord_distributions[\"pm1\"],\n",
    "    },\n",
    "    coord_parameters={\n",
    "        (\"phi1\", \"phi2\"): {\n",
    "            \"mixing_distribution\": (\n",
    "                dist.Categorical,\n",
    "                dist.Dirichlet(jnp.full(offtrack_phi12_locs_sparse.shape[0], 4.0)),\n",
    "            ),\n",
    "            \"locs\": offtrack_phi12_locs_sparse.T,\n",
    "            \"scales\": dist.Uniform(1.0, 10.0).expand((2, 1)),\n",
    "            \"low\": jnp.array([phi1_lim[0], phi2_lim[0]])[:, None],\n",
    "            \"high\": jnp.array([phi1_lim[1], phi2_lim[1]])[:, None],\n",
    "        },\n",
    "        # We don't need to define the parameters here, as they are the same as for the\n",
    "        # stream model - this will be handled below when we combine the components into\n",
    "        # a mixture model\n",
    "        \"pm1\": stream_model.coord_parameters[\"pm1\"],\n",
    "    },\n",
    "    conditional_data={\"pm1\": {\"x\": \"phi1\"}},\n",
    ")\n",
    "offtrack_init_params_sparse = {\n",
    "    (\"phi1\", \"phi2\"): {\n",
    "        \"mixing_distribution\": jnp.ones(offtrack_phi12_locs_sparse.shape[0])\n",
    "        / offtrack_phi12_locs_sparse.shape[0],\n",
    "        \"scales\": jnp.array([4.0, 1.0])[:, None],\n",
    "    }\n",
    "}"
   ]
  },
  {
   "cell_type": "markdown",
   "metadata": {},
   "source": [
    "Now that we have defined the three components of the model, we combine them into a mixture model. The mixture model is a mixture of the background, stream, and off-track models. The mixture weights are learned from the data. Note that we use the `tied_coordinates` argument to specify that the off-track model \"pm1\" ($\\mu_1$) coordinate should be \"tied\" to the stream model:"
   ]
  },
  {
   "cell_type": "code",
   "execution_count": null,
   "metadata": {},
   "outputs": [],
   "source": [
    "# mm = ComponentMixtureModel(\n",
    "#     dist.Dirichlet(jnp.ones(3)),\n",
    "#     components=[bkg_model, stream_model, offtrack_model],\n",
    "#     tied_coordinates={\"offtrack\": {\"pm1\": \"stream\"}},\n",
    "# )\n",
    "\n",
    "# mm = ComponentMixtureModel(\n",
    "#     dist.Dirichlet(jnp.array([0.25, 0.25, 1.0, 1.0])),\n",
    "#     components=[bkg_model, stream_model, offtrack_model_dense, offtrack_model_sparse],\n",
    "#     tied_coordinates={\"offtrack_dense\": {\"pm1\": \"stream\"}, \"offtrack_sparse\": {\"pm1\": \"stream\"}},\n",
    "# )\n",
    "mm = ComponentMixtureModel(\n",
    "    dist.Dirichlet(jnp.array([0.25, 0.25, 1.0])),\n",
    "    components=[bkg_model, stream_model, offtrack_model_dense],\n",
    "    tied_coordinates={\"offtrack_dense\": {\"pm1\": \"stream\"}},\n",
    ")"
   ]
  },
  {
   "cell_type": "markdown",
   "metadata": {},
   "source": [
    "We now try evaluating the numpyro model at a random sample of the parameter space to make sure it runs without errors:"
   ]
  },
  {
   "cell_type": "code",
   "execution_count": null,
   "metadata": {},
   "outputs": [],
   "source": [
    "with numpyro.validation_enabled():\n",
    "    seed(mm, jax.random.PRNGKey(42))(data, err)"
   ]
  },
  {
   "cell_type": "markdown",
   "metadata": {},
   "source": [
    "Success! Now we can run an optimizer to find the MAP parameters. There are a few ways to do this with a numpyro model, but we will use the SVI machinery with a delta-function \"guide\" distribution, because later we will use SVI to generate posterior samples from the model. To do the optimization, we here use the Adam optimizer because we start from a random sample from the prior. In a real application, we would start from a good guess of the MAP parameters and could then use an optimizer like BFGS."
   ]
  },
  {
   "cell_type": "code",
   "execution_count": null,
   "metadata": {},
   "outputs": [],
   "source": [
    "optimizer = numpyro.optim.Adam(1e-1)\n",
    "init_params = mm.pack_params(\n",
    "    {\n",
    "        \"background\": bkg_init_params,\n",
    "        \"stream\": stream_init_params,\n",
    "        # \"offtrack\": offtrack_init_params,\n",
    "        \"offtrack_dense\": offtrack_init_params_dense,\n",
    "        # \"offtrack_sparse\": offtrack_init_params_sparse,\n",
    "    }\n",
    ")\n",
    "guide = AutoDelta(mm, init_loc_fn=numpyro.infer.init_to_value(values=init_params))\n",
    "MAP_svi = SVI(mm, guide, optimizer, Trace_ELBO())"
   ]
  },
  {
   "cell_type": "code",
   "execution_count": null,
   "metadata": {},
   "outputs": [],
   "source": [
    "rng_key = jax.random.PRNGKey(12345)\n",
    "# init_state = MAP_svi.init(rng_key, data=data)\n",
    "# init_params = MAP_svi.get_params(init_state)\n",
    "\n",
    "thing = Predictive(guide, params=init_params, num_samples=1)\n",
    "MAP_p0 = thing(rng_key, data=data)\n",
    "MAP_p0 = {k: v[0] for k, v in MAP_p0.items()}"
   ]
  },
  {
   "cell_type": "code",
   "execution_count": null,
   "metadata": {},
   "outputs": [],
   "source": [
    "mm.plot_model_projections(\n",
    "    MAP_p0, plot_grids, pcolormesh_kwargs=dict(norm=mpl.colors.LogNorm())\n",
    ")"
   ]
  },
  {
   "cell_type": "code",
   "execution_count": null,
   "metadata": {},
   "outputs": [],
   "source": [
    "rng_key = jax.random.PRNGKey(54321)\n",
    "keys = jax.random.split(rng_key, num=3)\n",
    "\n",
    "MAP_svi_results = MAP_svi.run(keys[0], 1_000, data=data)\n",
    "plt.loglog(MAP_svi_results.losses)\n",
    "\n",
    "thing = Predictive(guide, params=MAP_svi_results.params, num_samples=1)\n",
    "MAP_p = thing(keys[1], data=data)\n",
    "MAP_p = {k: v[0] for k, v in MAP_p.items()}"
   ]
  },
  {
   "cell_type": "code",
   "execution_count": null,
   "metadata": {},
   "outputs": [],
   "source": [
    "mm.plot_model_projections(MAP_p, plot_grids)\n",
    "plot_data_projections(data, plot_grids)"
   ]
  },
  {
   "cell_type": "code",
   "execution_count": null,
   "metadata": {},
   "outputs": [],
   "source": [
    "expanded_pars = mm.expand_numpyro_params(MAP_p)\n",
    "for name in mm.component_names:\n",
    "    mm._components[name].plot_model_projections(expanded_pars[name], plot_grids)"
   ]
  },
  {
   "cell_type": "markdown",
   "metadata": {},
   "source": [
    "TODO: how to init guide at loc's given by MAP optimization?"
   ]
  },
  {
   "cell_type": "code",
   "execution_count": null,
   "metadata": {},
   "outputs": [],
   "source": [
    "optimizer = numpyro.optim.Adam(1e-2)\n",
    "guide = AutoNormal(mm, init_loc_fn=numpyro.infer.init_to_value(values=MAP_p))\n",
    "svi = SVI(mm, guide, optimizer, Trace_ELBO())\n",
    "svi_results = svi.run(jax.random.PRNGKey(0), 10_000, data=data)\n",
    "plt.loglog(svi_results.losses)"
   ]
  },
  {
   "cell_type": "code",
   "execution_count": null,
   "metadata": {},
   "outputs": [],
   "source": [
    "rng_key = jax.random.PRNGKey(123)\n",
    "\n",
    "thing = Predictive(guide, params=svi_results.params, num_samples=100)\n",
    "SVI_ps = thing(rng_key, data=data)\n",
    "SVI_p = {k: v[0] for k, v in SVI_ps.items()}"
   ]
  },
  {
   "cell_type": "code",
   "execution_count": null,
   "metadata": {},
   "outputs": [],
   "source": [
    "SVI_p"
   ]
  },
  {
   "cell_type": "code",
   "execution_count": null,
   "metadata": {},
   "outputs": [],
   "source": [
    "mm.plot_model_projections(SVI_p, plot_grids)"
   ]
  },
  {
   "cell_type": "code",
   "execution_count": null,
   "metadata": {},
   "outputs": [],
   "source": []
  },
  {
   "cell_type": "code",
   "execution_count": null,
   "metadata": {},
   "outputs": [],
   "source": [
    "plt.hist(err[\"pm1\"], bins=128, density=True)\n",
    "plt.hist(np.exp(SVI_ps[\"stream:pm1:ln_scale_vals\"]), bins=16, density=True)"
   ]
  },
  {
   "cell_type": "code",
   "execution_count": null,
   "metadata": {},
   "outputs": [],
   "source": []
  },
  {
   "cell_type": "code",
   "execution_count": null,
   "metadata": {},
   "outputs": [],
   "source": [
    "grids = {\n",
    "    \"phi1\": jnp.linspace(*phi1_lim, 512),\n",
    "    \"phi2\": jnp.linspace(*phi2_lim, 128),\n",
    "    \"pm1\": jnp.linspace(-15, pm1_lim[1], 128),\n",
    "}\n",
    "mm.plot_model_projections(SVI_p, grids)\n",
    "plot_data_projections(data, grids)"
   ]
  },
  {
   "cell_type": "code",
   "execution_count": null,
   "metadata": {},
   "outputs": [],
   "source": [
    "rng_key = jax.random.PRNGKey(123987)\n",
    "\n",
    "from numpyro.infer.util import unconstrain_fn\n",
    "\n",
    "mcmc_p0 = unconstrain_fn(mm, (data,), {}, MAP_p)\n",
    "\n",
    "# , init_strategy=numpyro.infer.init_to_value(values=MAP_p))\n",
    "nuts_kernel = NUTS(mm, max_tree_depth=(5, 10))\n",
    "mcmc = MCMC(nuts_kernel, num_warmup=1000, num_samples=100)\n",
    "mcmc.run(rng_key, data=data, init_params=mcmc_p0)"
   ]
  },
  {
   "cell_type": "code",
   "execution_count": null,
   "metadata": {},
   "outputs": [],
   "source": [
    "idata = az.from_numpyro(mcmc)\n",
    "az.summary(idata.posterior)\n",
    "\n",
    "samples = mcmc.get_samples()"
   ]
  },
  {
   "cell_type": "code",
   "execution_count": null,
   "metadata": {},
   "outputs": [],
   "source": [
    "plt.scatter(\n",
    "    stream_phi2_knots, true_phi2_loc_spl(stream_phi2_knots), marker=\"o\", color=\"r\"\n",
    ")\n",
    "plt.errorbar(\n",
    "    stream_phi2_knots,\n",
    "    idata.posterior[\"stream:phi2:loc_vals\"][0].mean(axis=0),\n",
    "    idata.posterior[\"stream:phi2:loc_vals\"][0].std(axis=0),\n",
    ")"
   ]
  },
  {
   "cell_type": "code",
   "execution_count": null,
   "metadata": {},
   "outputs": [],
   "source": [
    "plt.hist(np.exp(idata.posterior[\"stream:pm1:ln_scale_vals\"][0]), bins=32)\n",
    "plt.axvline(0.05)"
   ]
  },
  {
   "cell_type": "code",
   "execution_count": null,
   "metadata": {},
   "outputs": [],
   "source": [
    "# mean_probs = idata.posterior[\"bkg-grid-probs\"][0].mean(axis=0)\n",
    "plt.hist(idata.posterior[\"mixture-probs\"][0, :, 0], bins=32)"
   ]
  },
  {
   "cell_type": "code",
   "execution_count": null,
   "metadata": {},
   "outputs": [],
   "source": []
  },
  {
   "cell_type": "markdown",
   "metadata": {},
   "source": [
    "Old debugging"
   ]
  },
  {
   "cell_type": "code",
   "execution_count": null,
   "metadata": {},
   "outputs": [],
   "source": [
    "model = mm\n",
    "model_args = ()\n",
    "model_kwargs = {\"data\": data}\n",
    "init_strategy = numpyro.infer.init_to_sample()\n",
    "key, subkey = jax.random.split(jax.random.PRNGKey(42))\n",
    "\n",
    "from functools import partial\n",
    "\n",
    "from numpyro.distributions.transforms import biject_to\n",
    "from numpyro.handlers import seed, substitute, trace\n",
    "from numpyro.infer.util import _unconstrain_reparam, log_density, transform_fn\n",
    "\n",
    "# Wrap model in a `substitute` handler to initialize from `init_loc_fn`.\n",
    "model_ = model\n",
    "seeded_model = substitute(seed(model_, subkey), substitute_fn=init_strategy)\n",
    "model_trace = trace(seeded_model).get_trace(*model_args, **model_kwargs)\n",
    "constrained_values, inv_transforms = {}, {}\n",
    "for k, v in model_trace.items():\n",
    "    if (\n",
    "        v[\"type\"] == \"sample\"\n",
    "        and not v[\"is_observed\"]\n",
    "        and not v[\"fn\"].support.is_discrete\n",
    "    ):\n",
    "        constrained_values[k] = v[\"value\"]\n",
    "        inv_transforms[k] = biject_to(v[\"fn\"].support)\n",
    "params = transform_fn(\n",
    "    inv_transforms,\n",
    "    {k: v for k, v in constrained_values.items()},\n",
    "    invert=True,\n",
    ")\n",
    "print(list(params.keys()))\n",
    "\n",
    "substituted_model = substitute(\n",
    "    model, substitute_fn=partial(_unconstrain_reparam, params)\n",
    ")\n",
    "log_joint, model_trace = log_density(substituted_model, model_args, model_kwargs, {})"
   ]
  }
 ],
 "metadata": {
  "kernelspec": {
   "display_name": "base",
   "language": "python",
   "name": "python3"
  },
  "language_info": {
   "codemirror_mode": {
    "name": "ipython",
    "version": 3
   },
   "file_extension": ".py",
   "mimetype": "text/x-python",
   "name": "python",
   "nbconvert_exporter": "python",
   "pygments_lexer": "ipython3",
   "version": "3.10.12"
  }
 },
 "nbformat": 4,
 "nbformat_minor": 2
}
